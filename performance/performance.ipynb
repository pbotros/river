{
 "cells": [
  {
   "cell_type": "code",
   "execution_count": 1,
   "outputs": [],
   "source": [
    "\n",
    "import numpy as np\n",
    "import matplotlib.pyplot as plt\n",
    "\n",
    "import pandas as pd\n",
    "pd.set_option(\"display.max_rows\", 120)\n",
    "pd.set_option(\"display.max_columns\", 120)\n",
    "\n",
    "import seaborn as sns\n",
    "sns.set_context(\"paper\", font_scale=0.7)\n",
    "sns.set_style(\"white\")\n",
    "import os\n",
    "\n",
    "%load_ext autoreload\n",
    "%autoreload 2\n"
   ],
   "metadata": {
    "collapsed": false,
    "pycharm": {
     "name": "#%%\n"
    }
   }
  },
  {
   "cell_type": "code",
   "execution_count": 100,
   "outputs": [
    {
     "data": {
      "text/plain": "        sample_written_at  sample_index  sample_received_at   latency  \\\n0            1.265738e+07           100        1.265738e+07  0.000424   \n1            1.265738e+07           101        1.265738e+07  0.000258   \n2            1.265738e+07           102        1.265738e+07  0.000192   \n3            1.265738e+07           103        1.265738e+07  0.000200   \n4            1.265738e+07           104        1.265738e+07  0.000145   \n...                   ...           ...                 ...       ...   \n346570       1.266884e+07          2495        1.266884e+07  0.272183   \n346571       1.266884e+07          2496        1.266884e+07  0.271037   \n346572       1.266884e+07          2497        1.266884e+07  0.270373   \n346573       1.266884e+07          2498        1.266884e+07  0.269819   \n346574       1.266884e+07          2499        1.266884e+07  0.269144   \n\n        latency_ms        dt  batch_size  n_samples  sample_size_bytes  \\\n0         0.424232  0.001000           1      10000                  8   \n1         0.258027  0.001000           1      10000                  8   \n2         0.192445  0.001000           1      10000                  8   \n3         0.199534  0.001000           1      10000                  8   \n4         0.145277  0.001000           1      10000                  8   \n...            ...       ...         ...        ...                ...   \n346570  272.183424  0.008333           1       2400            1228800   \n346571  271.036876  0.008333           1       2400            1228800   \n346572  270.372793  0.008333           1       2400            1228800   \n346573  269.819153  0.008333           1       2400            1228800   \n346574  269.144444  0.008333           1       2400            1228800   \n\n        num_readers      tag  \n0                 1    event  \n1                 1    event  \n2                 1    event  \n3                 1    event  \n4                 1    event  \n...             ...      ...  \n346570            1  imaging  \n346571            1  imaging  \n346572            1  imaging  \n346573            1  imaging  \n346574            1  imaging  \n\n[346575 rows x 11 columns]",
      "text/html": "<div>\n<style scoped>\n    .dataframe tbody tr th:only-of-type {\n        vertical-align: middle;\n    }\n\n    .dataframe tbody tr th {\n        vertical-align: top;\n    }\n\n    .dataframe thead th {\n        text-align: right;\n    }\n</style>\n<table border=\"1\" class=\"dataframe\">\n  <thead>\n    <tr style=\"text-align: right;\">\n      <th></th>\n      <th>sample_written_at</th>\n      <th>sample_index</th>\n      <th>sample_received_at</th>\n      <th>latency</th>\n      <th>latency_ms</th>\n      <th>dt</th>\n      <th>batch_size</th>\n      <th>n_samples</th>\n      <th>sample_size_bytes</th>\n      <th>num_readers</th>\n      <th>tag</th>\n    </tr>\n  </thead>\n  <tbody>\n    <tr>\n      <th>0</th>\n      <td>1.265738e+07</td>\n      <td>100</td>\n      <td>1.265738e+07</td>\n      <td>0.000424</td>\n      <td>0.424232</td>\n      <td>0.001000</td>\n      <td>1</td>\n      <td>10000</td>\n      <td>8</td>\n      <td>1</td>\n      <td>event</td>\n    </tr>\n    <tr>\n      <th>1</th>\n      <td>1.265738e+07</td>\n      <td>101</td>\n      <td>1.265738e+07</td>\n      <td>0.000258</td>\n      <td>0.258027</td>\n      <td>0.001000</td>\n      <td>1</td>\n      <td>10000</td>\n      <td>8</td>\n      <td>1</td>\n      <td>event</td>\n    </tr>\n    <tr>\n      <th>2</th>\n      <td>1.265738e+07</td>\n      <td>102</td>\n      <td>1.265738e+07</td>\n      <td>0.000192</td>\n      <td>0.192445</td>\n      <td>0.001000</td>\n      <td>1</td>\n      <td>10000</td>\n      <td>8</td>\n      <td>1</td>\n      <td>event</td>\n    </tr>\n    <tr>\n      <th>3</th>\n      <td>1.265738e+07</td>\n      <td>103</td>\n      <td>1.265738e+07</td>\n      <td>0.000200</td>\n      <td>0.199534</td>\n      <td>0.001000</td>\n      <td>1</td>\n      <td>10000</td>\n      <td>8</td>\n      <td>1</td>\n      <td>event</td>\n    </tr>\n    <tr>\n      <th>4</th>\n      <td>1.265738e+07</td>\n      <td>104</td>\n      <td>1.265738e+07</td>\n      <td>0.000145</td>\n      <td>0.145277</td>\n      <td>0.001000</td>\n      <td>1</td>\n      <td>10000</td>\n      <td>8</td>\n      <td>1</td>\n      <td>event</td>\n    </tr>\n    <tr>\n      <th>...</th>\n      <td>...</td>\n      <td>...</td>\n      <td>...</td>\n      <td>...</td>\n      <td>...</td>\n      <td>...</td>\n      <td>...</td>\n      <td>...</td>\n      <td>...</td>\n      <td>...</td>\n      <td>...</td>\n    </tr>\n    <tr>\n      <th>346570</th>\n      <td>1.266884e+07</td>\n      <td>2495</td>\n      <td>1.266884e+07</td>\n      <td>0.272183</td>\n      <td>272.183424</td>\n      <td>0.008333</td>\n      <td>1</td>\n      <td>2400</td>\n      <td>1228800</td>\n      <td>1</td>\n      <td>imaging</td>\n    </tr>\n    <tr>\n      <th>346571</th>\n      <td>1.266884e+07</td>\n      <td>2496</td>\n      <td>1.266884e+07</td>\n      <td>0.271037</td>\n      <td>271.036876</td>\n      <td>0.008333</td>\n      <td>1</td>\n      <td>2400</td>\n      <td>1228800</td>\n      <td>1</td>\n      <td>imaging</td>\n    </tr>\n    <tr>\n      <th>346572</th>\n      <td>1.266884e+07</td>\n      <td>2497</td>\n      <td>1.266884e+07</td>\n      <td>0.270373</td>\n      <td>270.372793</td>\n      <td>0.008333</td>\n      <td>1</td>\n      <td>2400</td>\n      <td>1228800</td>\n      <td>1</td>\n      <td>imaging</td>\n    </tr>\n    <tr>\n      <th>346573</th>\n      <td>1.266884e+07</td>\n      <td>2498</td>\n      <td>1.266884e+07</td>\n      <td>0.269819</td>\n      <td>269.819153</td>\n      <td>0.008333</td>\n      <td>1</td>\n      <td>2400</td>\n      <td>1228800</td>\n      <td>1</td>\n      <td>imaging</td>\n    </tr>\n    <tr>\n      <th>346574</th>\n      <td>1.266884e+07</td>\n      <td>2499</td>\n      <td>1.266884e+07</td>\n      <td>0.269144</td>\n      <td>269.144444</td>\n      <td>0.008333</td>\n      <td>1</td>\n      <td>2400</td>\n      <td>1228800</td>\n      <td>1</td>\n      <td>imaging</td>\n    </tr>\n  </tbody>\n</table>\n<p>346575 rows × 11 columns</p>\n</div>"
     },
     "execution_count": 100,
     "metadata": {},
     "output_type": "execute_result"
    }
   ],
   "source": [
    "import performance\n",
    "import gc\n",
    "\n",
    "redis_hostname = '192.168.1.101'\n",
    "redis_password = 'FILL IN HERE'\n",
    "\n",
    "all_results_fn = 'performance_results.parquet'\n",
    "if os.path.exists(all_results_fn):\n",
    "    all_results = pd.read_parquet(all_results_fn)\n",
    "else:\n",
    "    all_results = []\n",
    "    for d in [\n",
    "            dict(\n",
    "                # Event latency: many quick events: what's the latency?\n",
    "                dt=0.001,\n",
    "                batch_size=1,\n",
    "                n_samples=int(round(1 / 0.001 * 10)),\n",
    "                sample_size_bytes=sample_size_bytes,\n",
    "                num_readers=num_readers,\n",
    "                tag='event',\n",
    "            ) for sample_size_bytes in (8, 16, 32, 64, 128) for num_readers in (1, 2, 4, 8, 16, 32)\n",
    "        ] + [\n",
    "            dict(\n",
    "                dt=dt,\n",
    "                batch_size=int(round(32 * 1000 * dt)),  # => every 1ms, send 32 samples: ==> 32 kHz\n",
    "                n_samples=32000 * 20,\n",
    "                # Simulate \"384\" channels of 2-bytes per sample\n",
    "                sample_size_bytes=384 * 2,\n",
    "                num_readers=1,\n",
    "                tag='ephys',\n",
    "            ) for dt in (0.001, 0.002, 0.004, 0.008, 0.016, 0.032)\n",
    "        ] + [\n",
    "            dict(\n",
    "                dt=1 / 120.0,  # Simulate 120Hz\n",
    "                batch_size=1,\n",
    "                n_samples=120 * 20,\n",
    "                # Imaging: 120 Hz data, with big payloads\n",
    "                sample_size_bytes=sample_size_bytes,\n",
    "                num_readers=1,\n",
    "                tag='imaging',\n",
    "            ) for sample_size_bytes in (640 * 480, 320 * 240, 1280 * 960)\n",
    "    ]:\n",
    "        tag = d.pop('tag')\n",
    "        df = performance.test_performance(\n",
    "            redis_hostname=redis_hostname,\n",
    "            redis_password=redis_password,\n",
    "            redis_port=6379,\n",
    "            **d,\n",
    "        )\n",
    "        dt = d['dt']\n",
    "\n",
    "        fig, ax = plt.subplots(figsize=(10, 5))\n",
    "        sns.histplot(\n",
    "            data=df,\n",
    "            x='latency_ms',\n",
    "            ax=ax\n",
    "        )\n",
    "\n",
    "        print(pd.Series(df['latency_ms']).describe())\n",
    "        from scipy import stats\n",
    "        latency_ms = df['latency_ms'].to_numpy()\n",
    "        for f in (95.0, 99.0, 99.9):\n",
    "            print(f'{f:.1f}%ile\\t{np.percentile(latency_ms, f):.4f}')\n",
    "        print(f'%ile of {dt * 1e3:.1f}ms', stats.percentileofscore(df['latency_ms'], dt * 1e3))\n",
    "        all_results.append(df.assign(tag=tag))\n",
    "        gc.collect()\n",
    "\n",
    "    all_results = pd.concat(all_results)\n",
    "all_results\n"
   ],
   "metadata": {
    "collapsed": false,
    "pycharm": {
     "name": "#%%\n"
    }
   }
  },
  {
   "cell_type": "code",
   "execution_count": 160,
   "outputs": [
    {
     "name": "stderr",
     "output_type": "stream",
     "text": [
      "I20220627 09:37:46.047742 3539691 redis.cpp:47] AUTH response: OK\n",
      "I20220627 09:37:46.058657 3539691 writer.cpp:231] Relative time (local - server) = -954 us\n",
      "I20220627 09:37:46.058965 3539691 writer.cpp:90] Stream metadata:\n",
      "I20220627 09:37:46.058972 3539691 writer.cpp:92] => user_metadata: null\n",
      "I20220627 09:37:46.058976 3539691 writer.cpp:92] => local_minus_server_clock_us: -954\n",
      "I20220627 09:37:46.058980 3539691 writer.cpp:92] => schema: {\"field_definitions\":[{\"name\":\"data\",\"size\":32,\"type\":\"FIXED_WIDTH_BYTES\"}]}\n",
      "I20220627 09:37:46.058984 3539691 writer.cpp:92] => initialized_at_us: 1656347866059621\n",
      "I20220627 09:37:46.058990 3539691 writer.cpp:92] => first_stream_key: f279bcf4-a60f-429e-9add-2d97391429d9-0\n"
     ]
    },
    {
     "name": "stdout",
     "output_type": "stream",
     "text": [
      "Writing with batch size 1, # batches 32000 [total 32000]\n",
      "Sleeping, waiting for everything to catch up...\n",
      "Executing!\n"
     ]
    },
    {
     "name": "stderr",
     "output_type": "stream",
     "text": [
      "I20220627 09:37:50.934459 3539691 writer.cpp:246] Adding eof entry for stream f279bcf4-a60f-429e-9add-2d97391429d9, idx 0 at samples 32100\n",
      "I20220627 09:37:51.303314 3558674 redis.cpp:47] AUTH response: OK\n",
      "I20220627 09:37:55.169737 3558674 reader.cpp:199] EOF received! Ending stream with 0 elements at sample 32099\n",
      "I20220627 09:37:55.242436 3539691 redis.cpp:47] AUTH response: OK\n",
      "I20220627 09:37:55.253742 3539691 writer.cpp:231] Relative time (local - server) = -952 us\n",
      "I20220627 09:37:55.254133 3539691 writer.cpp:90] Stream metadata:\n",
      "I20220627 09:37:55.254141 3539691 writer.cpp:92] => user_metadata: null\n",
      "I20220627 09:37:55.254146 3539691 writer.cpp:92] => local_minus_server_clock_us: -952\n",
      "I20220627 09:37:55.254150 3539691 writer.cpp:92] => schema: {\"field_definitions\":[{\"name\":\"data\",\"size\":32,\"type\":\"FIXED_WIDTH_BYTES\"}]}\n",
      "I20220627 09:37:55.254154 3539691 writer.cpp:92] => initialized_at_us: 1656347875254707\n",
      "I20220627 09:37:55.254158 3539691 writer.cpp:92] => first_stream_key: 976cadaf-d98c-471f-80ac-8f7049fed736-0\n"
     ]
    },
    {
     "name": "stdout",
     "output_type": "stream",
     "text": [
      "1\n",
      "1\n",
      "Writing with batch size 2, # batches 16000 [total 32000]\n",
      "Sleeping, waiting for everything to catch up...\n",
      "Executing!\n"
     ]
    },
    {
     "name": "stderr",
     "output_type": "stream",
     "text": [
      "I20220627 09:37:58.387344 3539691 writer.cpp:246] Adding eof entry for stream 976cadaf-d98c-471f-80ac-8f7049fed736, idx 0 at samples 32200\n",
      "I20220627 09:37:58.754686 3558679 redis.cpp:47] AUTH response: OK\n",
      "I20220627 09:38:00.905534 3558679 reader.cpp:199] EOF received! Ending stream with 0 elements at sample 32199\n",
      "I20220627 09:38:00.969401 3539691 redis.cpp:47] AUTH response: OK\n",
      "I20220627 09:38:00.980334 3539691 writer.cpp:231] Relative time (local - server) = -953 us\n",
      "I20220627 09:38:00.980648 3539691 writer.cpp:90] Stream metadata:\n",
      "I20220627 09:38:00.980655 3539691 writer.cpp:92] => user_metadata: null\n",
      "I20220627 09:38:00.980660 3539691 writer.cpp:92] => local_minus_server_clock_us: -953\n",
      "I20220627 09:38:00.980664 3539691 writer.cpp:92] => schema: {\"field_definitions\":[{\"name\":\"data\",\"size\":32,\"type\":\"FIXED_WIDTH_BYTES\"}]}\n",
      "I20220627 09:38:00.980669 3539691 writer.cpp:92] => initialized_at_us: 1656347880981297\n",
      "I20220627 09:38:00.980672 3539691 writer.cpp:92] => first_stream_key: c7b85990-ae7d-43d0-a490-260b94a5fd12-0\n"
     ]
    },
    {
     "name": "stdout",
     "output_type": "stream",
     "text": [
      "1\n",
      "1\n",
      "Writing with batch size 4, # batches 8000 [total 32000]\n",
      "Sleeping, waiting for everything to catch up...\n",
      "Executing!\n"
     ]
    },
    {
     "name": "stderr",
     "output_type": "stream",
     "text": [
      "I20220627 09:38:03.248847 3539691 writer.cpp:246] Adding eof entry for stream c7b85990-ae7d-43d0-a490-260b94a5fd12, idx 0 at samples 32400\n",
      "I20220627 09:38:03.616196 3558681 redis.cpp:47] AUTH response: OK\n",
      "I20220627 09:38:04.892923 3558681 reader.cpp:199] EOF received! Ending stream with 0 elements at sample 32399\n",
      "I20220627 09:38:04.952080 3539691 redis.cpp:47] AUTH response: OK\n",
      "I20220627 09:38:04.962941 3539691 writer.cpp:231] Relative time (local - server) = -956 us\n",
      "I20220627 09:38:04.963272 3539691 writer.cpp:90] Stream metadata:\n",
      "I20220627 09:38:04.963279 3539691 writer.cpp:92] => user_metadata: null\n",
      "I20220627 09:38:04.963284 3539691 writer.cpp:92] => local_minus_server_clock_us: -956\n",
      "I20220627 09:38:04.963289 3539691 writer.cpp:92] => schema: {\"field_definitions\":[{\"name\":\"data\",\"size\":32,\"type\":\"FIXED_WIDTH_BYTES\"}]}\n",
      "I20220627 09:38:04.963292 3539691 writer.cpp:92] => initialized_at_us: 1656347884963908\n",
      "I20220627 09:38:04.963296 3539691 writer.cpp:92] => first_stream_key: 14f73307-9a24-4ecd-b1db-062317d27731-0\n"
     ]
    },
    {
     "name": "stdout",
     "output_type": "stream",
     "text": [
      "1\n",
      "1\n",
      "Writing with batch size 8, # batches 4000 [total 32000]\n",
      "Sleeping, waiting for everything to catch up...\n",
      "Executing!\n"
     ]
    },
    {
     "name": "stderr",
     "output_type": "stream",
     "text": [
      "I20220627 09:38:06.805532 3539691 writer.cpp:246] Adding eof entry for stream 14f73307-9a24-4ecd-b1db-062317d27731, idx 0 at samples 32800\n",
      "I20220627 09:38:07.175096 3558683 redis.cpp:47] AUTH response: OK\n",
      "I20220627 09:38:08.057555 3558683 reader.cpp:199] EOF received! Ending stream with 0 elements at sample 32799\n",
      "I20220627 09:38:08.114146 3539691 redis.cpp:47] AUTH response: OK\n",
      "I20220627 09:38:08.125068 3539691 writer.cpp:231] Relative time (local - server) = -955 us\n",
      "I20220627 09:38:08.125384 3539691 writer.cpp:90] Stream metadata:\n",
      "I20220627 09:38:08.125392 3539691 writer.cpp:92] => user_metadata: null\n",
      "I20220627 09:38:08.125396 3539691 writer.cpp:92] => local_minus_server_clock_us: -955\n",
      "I20220627 09:38:08.125401 3539691 writer.cpp:92] => schema: {\"field_definitions\":[{\"name\":\"data\",\"size\":32,\"type\":\"FIXED_WIDTH_BYTES\"}]}\n",
      "I20220627 09:38:08.125404 3539691 writer.cpp:92] => initialized_at_us: 1656347888126033\n",
      "I20220627 09:38:08.125408 3539691 writer.cpp:92] => first_stream_key: 3b83a2e2-ddb3-4aa4-86eb-a79a95665d88-0\n"
     ]
    },
    {
     "name": "stdout",
     "output_type": "stream",
     "text": [
      "1\n",
      "1\n",
      "Writing with batch size 16, # batches 2000 [total 32000]\n",
      "Sleeping, waiting for everything to catch up...\n",
      "Executing!\n"
     ]
    },
    {
     "name": "stderr",
     "output_type": "stream",
     "text": [
      "I20220627 09:38:09.878079 3539691 writer.cpp:246] Adding eof entry for stream 3b83a2e2-ddb3-4aa4-86eb-a79a95665d88, idx 0 at samples 33600\n",
      "I20220627 09:38:10.248117 3558685 redis.cpp:47] AUTH response: OK\n",
      "I20220627 09:38:10.944025 3558685 reader.cpp:199] EOF received! Ending stream with 0 elements at sample 33599\n",
      "I20220627 09:38:10.999219 3539691 redis.cpp:47] AUTH response: OK\n",
      "I20220627 09:38:11.010175 3539691 writer.cpp:231] Relative time (local - server) = -955 us\n",
      "I20220627 09:38:11.010496 3539691 writer.cpp:90] Stream metadata:\n",
      "I20220627 09:38:11.010504 3539691 writer.cpp:92] => user_metadata: null\n",
      "I20220627 09:38:11.010509 3539691 writer.cpp:92] => local_minus_server_clock_us: -955\n",
      "I20220627 09:38:11.010514 3539691 writer.cpp:92] => schema: {\"field_definitions\":[{\"name\":\"data\",\"size\":32,\"type\":\"FIXED_WIDTH_BYTES\"}]}\n",
      "I20220627 09:38:11.010517 3539691 writer.cpp:92] => initialized_at_us: 1656347891011143\n",
      "I20220627 09:38:11.010521 3539691 writer.cpp:92] => first_stream_key: 599a32db-8077-4de4-93b4-7319e657d69f-0\n"
     ]
    },
    {
     "name": "stdout",
     "output_type": "stream",
     "text": [
      "1\n",
      "1\n",
      "Writing with batch size 32, # batches 1000 [total 32000]\n",
      "Sleeping, waiting for everything to catch up...\n",
      "Executing!\n"
     ]
    },
    {
     "name": "stderr",
     "output_type": "stream",
     "text": [
      "I20220627 09:38:12.635933 3539691 writer.cpp:246] Adding eof entry for stream 599a32db-8077-4de4-93b4-7319e657d69f, idx 0 at samples 35200\n",
      "I20220627 09:38:13.006507 3558687 redis.cpp:47] AUTH response: OK\n",
      "I20220627 09:38:13.713366 3558687 reader.cpp:199] EOF received! Ending stream with 0 elements at sample 35199\n",
      "I20220627 09:38:13.767622 3539691 redis.cpp:47] AUTH response: OK\n",
      "I20220627 09:38:13.778652 3539691 writer.cpp:231] Relative time (local - server) = -953 us\n",
      "I20220627 09:38:13.778995 3539691 writer.cpp:90] Stream metadata:\n",
      "I20220627 09:38:13.779002 3539691 writer.cpp:92] => user_metadata: null\n",
      "I20220627 09:38:13.779006 3539691 writer.cpp:92] => local_minus_server_clock_us: -953\n",
      "I20220627 09:38:13.779011 3539691 writer.cpp:92] => schema: {\"field_definitions\":[{\"name\":\"data\",\"size\":32,\"type\":\"FIXED_WIDTH_BYTES\"}]}\n",
      "I20220627 09:38:13.779016 3539691 writer.cpp:92] => initialized_at_us: 1656347893779619\n",
      "I20220627 09:38:13.779019 3539691 writer.cpp:92] => first_stream_key: f29ae7b4-746f-4a28-ba41-2f25354fe3af-0\n"
     ]
    },
    {
     "name": "stdout",
     "output_type": "stream",
     "text": [
      "1\n",
      "1\n",
      "Writing with batch size 64, # batches 500 [total 32000]\n",
      "Sleeping, waiting for everything to catch up...\n",
      "Executing!\n"
     ]
    },
    {
     "name": "stderr",
     "output_type": "stream",
     "text": [
      "I20220627 09:38:15.337462 3539691 writer.cpp:246] Adding eof entry for stream f29ae7b4-746f-4a28-ba41-2f25354fe3af, idx 0 at samples 38400\n",
      "I20220627 09:38:15.706569 3558689 redis.cpp:47] AUTH response: OK\n",
      "I20220627 09:38:16.309198 3558689 reader.cpp:199] EOF received! Ending stream with 0 elements at sample 38399\n",
      "I20220627 09:38:16.363147 3539691 redis.cpp:47] AUTH response: OK\n",
      "I20220627 09:38:16.374066 3539691 writer.cpp:231] Relative time (local - server) = -955 us\n",
      "I20220627 09:38:16.374459 3539691 writer.cpp:90] Stream metadata:\n",
      "I20220627 09:38:16.374467 3539691 writer.cpp:92] => user_metadata: null\n",
      "I20220627 09:38:16.374472 3539691 writer.cpp:92] => local_minus_server_clock_us: -955\n",
      "I20220627 09:38:16.374476 3539691 writer.cpp:92] => schema: {\"field_definitions\":[{\"name\":\"data\",\"size\":32,\"type\":\"FIXED_WIDTH_BYTES\"}]}\n",
      "I20220627 09:38:16.374480 3539691 writer.cpp:92] => initialized_at_us: 1656347896375034\n",
      "I20220627 09:38:16.374485 3539691 writer.cpp:92] => first_stream_key: a51b7554-65d1-42ca-b0ab-945a4e47713f-0\n"
     ]
    },
    {
     "name": "stdout",
     "output_type": "stream",
     "text": [
      "1\n",
      "1\n",
      "Writing with batch size 128, # batches 250 [total 32000]\n",
      "Sleeping, waiting for everything to catch up...\n",
      "Executing!\n"
     ]
    },
    {
     "name": "stderr",
     "output_type": "stream",
     "text": [
      "I20220627 09:38:17.913193 3539691 writer.cpp:246] Adding eof entry for stream a51b7554-65d1-42ca-b0ab-945a4e47713f, idx 0 at samples 44800\n",
      "I20220627 09:38:18.284801 3558691 redis.cpp:47] AUTH response: OK\n"
     ]
    },
    {
     "name": "stdout",
     "output_type": "stream",
     "text": [
      "1\n",
      "1\n"
     ]
    },
    {
     "name": "stderr",
     "output_type": "stream",
     "text": [
      "I20220627 09:38:18.899158 3558691 reader.cpp:199] EOF received! Ending stream with 0 elements at sample 44799\n"
     ]
    },
    {
     "data": {
      "text/plain": "     sample_written_at  sample_index  sample_received_at   latency  \\\n0         1.270707e+07           100        1.270707e+07  4.226545   \n1         1.270707e+07           101        1.270707e+07  4.226307   \n2         1.270707e+07           102        1.270707e+07  4.226145   \n3         1.270707e+07           103        1.270707e+07  4.226057   \n4         1.270707e+07           104        1.270707e+07  4.225984   \n..                 ...           ...                 ...       ...   \n245       1.270710e+07           345        1.270710e+07  0.985909   \n246       1.270710e+07           346        1.270710e+07  0.985969   \n247       1.270710e+07           347        1.270710e+07  0.986086   \n248       1.270710e+07           348        1.270710e+07  0.986116   \n249       1.270710e+07           349        1.270710e+07  0.986258   \n\n      latency_ms   dt  batch_size  n_samples  sample_size_bytes  num_readers  \n0    4226.544524  0.0           1      32000                 32            1  \n1    4226.307373  0.0           1      32000                 32            1  \n2    4226.145497  0.0           1      32000                 32            1  \n3    4226.057068  0.0           1      32000                 32            1  \n4    4225.984050  0.0           1      32000                 32            1  \n..           ...  ...         ...        ...                ...          ...  \n245   985.908780  0.0         128      32000                 32            1  \n246   985.969244  0.0         128      32000                 32            1  \n247   986.086244  0.0         128      32000                 32            1  \n248   986.115899  0.0         128      32000                 32            1  \n249   986.257602  0.0         128      32000                 32            1  \n\n[63750 rows x 10 columns]",
      "text/html": "<div>\n<style scoped>\n    .dataframe tbody tr th:only-of-type {\n        vertical-align: middle;\n    }\n\n    .dataframe tbody tr th {\n        vertical-align: top;\n    }\n\n    .dataframe thead th {\n        text-align: right;\n    }\n</style>\n<table border=\"1\" class=\"dataframe\">\n  <thead>\n    <tr style=\"text-align: right;\">\n      <th></th>\n      <th>sample_written_at</th>\n      <th>sample_index</th>\n      <th>sample_received_at</th>\n      <th>latency</th>\n      <th>latency_ms</th>\n      <th>dt</th>\n      <th>batch_size</th>\n      <th>n_samples</th>\n      <th>sample_size_bytes</th>\n      <th>num_readers</th>\n    </tr>\n  </thead>\n  <tbody>\n    <tr>\n      <th>0</th>\n      <td>1.270707e+07</td>\n      <td>100</td>\n      <td>1.270707e+07</td>\n      <td>4.226545</td>\n      <td>4226.544524</td>\n      <td>0.0</td>\n      <td>1</td>\n      <td>32000</td>\n      <td>32</td>\n      <td>1</td>\n    </tr>\n    <tr>\n      <th>1</th>\n      <td>1.270707e+07</td>\n      <td>101</td>\n      <td>1.270707e+07</td>\n      <td>4.226307</td>\n      <td>4226.307373</td>\n      <td>0.0</td>\n      <td>1</td>\n      <td>32000</td>\n      <td>32</td>\n      <td>1</td>\n    </tr>\n    <tr>\n      <th>2</th>\n      <td>1.270707e+07</td>\n      <td>102</td>\n      <td>1.270707e+07</td>\n      <td>4.226145</td>\n      <td>4226.145497</td>\n      <td>0.0</td>\n      <td>1</td>\n      <td>32000</td>\n      <td>32</td>\n      <td>1</td>\n    </tr>\n    <tr>\n      <th>3</th>\n      <td>1.270707e+07</td>\n      <td>103</td>\n      <td>1.270707e+07</td>\n      <td>4.226057</td>\n      <td>4226.057068</td>\n      <td>0.0</td>\n      <td>1</td>\n      <td>32000</td>\n      <td>32</td>\n      <td>1</td>\n    </tr>\n    <tr>\n      <th>4</th>\n      <td>1.270707e+07</td>\n      <td>104</td>\n      <td>1.270707e+07</td>\n      <td>4.225984</td>\n      <td>4225.984050</td>\n      <td>0.0</td>\n      <td>1</td>\n      <td>32000</td>\n      <td>32</td>\n      <td>1</td>\n    </tr>\n    <tr>\n      <th>...</th>\n      <td>...</td>\n      <td>...</td>\n      <td>...</td>\n      <td>...</td>\n      <td>...</td>\n      <td>...</td>\n      <td>...</td>\n      <td>...</td>\n      <td>...</td>\n      <td>...</td>\n    </tr>\n    <tr>\n      <th>245</th>\n      <td>1.270710e+07</td>\n      <td>345</td>\n      <td>1.270710e+07</td>\n      <td>0.985909</td>\n      <td>985.908780</td>\n      <td>0.0</td>\n      <td>128</td>\n      <td>32000</td>\n      <td>32</td>\n      <td>1</td>\n    </tr>\n    <tr>\n      <th>246</th>\n      <td>1.270710e+07</td>\n      <td>346</td>\n      <td>1.270710e+07</td>\n      <td>0.985969</td>\n      <td>985.969244</td>\n      <td>0.0</td>\n      <td>128</td>\n      <td>32000</td>\n      <td>32</td>\n      <td>1</td>\n    </tr>\n    <tr>\n      <th>247</th>\n      <td>1.270710e+07</td>\n      <td>347</td>\n      <td>1.270710e+07</td>\n      <td>0.986086</td>\n      <td>986.086244</td>\n      <td>0.0</td>\n      <td>128</td>\n      <td>32000</td>\n      <td>32</td>\n      <td>1</td>\n    </tr>\n    <tr>\n      <th>248</th>\n      <td>1.270710e+07</td>\n      <td>348</td>\n      <td>1.270710e+07</td>\n      <td>0.986116</td>\n      <td>986.115899</td>\n      <td>0.0</td>\n      <td>128</td>\n      <td>32000</td>\n      <td>32</td>\n      <td>1</td>\n    </tr>\n    <tr>\n      <th>249</th>\n      <td>1.270710e+07</td>\n      <td>349</td>\n      <td>1.270710e+07</td>\n      <td>0.986258</td>\n      <td>986.257602</td>\n      <td>0.0</td>\n      <td>128</td>\n      <td>32000</td>\n      <td>32</td>\n      <td>1</td>\n    </tr>\n  </tbody>\n</table>\n<p>63750 rows × 10 columns</p>\n</div>"
     },
     "execution_count": 160,
     "metadata": {},
     "output_type": "execute_result"
    }
   ],
   "source": [
    "\n"
   ],
   "metadata": {
    "collapsed": false,
    "pycharm": {
     "name": "#%%\n"
    }
   }
  },
  {
   "cell_type": "code",
   "execution_count": 101,
   "outputs": [
    {
     "data": {
      "text/plain": "           dt  batch_size  n_samples  sample_size_bytes  num_readers      tag  \\\n210  0.001000          32     640000                768            1    ephys   \n211  0.001000          32     640000                768            1    ephys   \n212  0.001000          32     640000                768            1    ephys   \n213  0.001000          32     640000                768            1    ephys   \n214  0.001000          32     640000                768            1    ephys   \n..        ...         ...        ...                ...          ...      ...   \n254  0.008333           1       2400            1228800            1  imaging   \n255  0.008333           1       2400            1228800            1  imaging   \n256  0.008333           1       2400            1228800            1  imaging   \n257  0.008333           1       2400            1228800            1  imaging   \n258  0.008333           1       2400            1228800            1  imaging   \n\n     percentile  latency_ms_percentile     dt_ms  \n210       50.00               0.916537  1.000000  \n211       75.00               1.003518  1.000000  \n212       90.00               1.089967  1.000000  \n213       95.00               1.186217  1.000000  \n214       99.00               1.340103  1.000000  \n..          ...                    ...       ...  \n254       90.00             186.357874  8.333333  \n255       95.00             187.797196  8.333333  \n256       99.00             263.886052  8.333333  \n257       99.90             273.531468  8.333333  \n258       99.99             274.085519  8.333333  \n\n[273 rows x 9 columns]",
      "text/html": "<div>\n<style scoped>\n    .dataframe tbody tr th:only-of-type {\n        vertical-align: middle;\n    }\n\n    .dataframe tbody tr th {\n        vertical-align: top;\n    }\n\n    .dataframe thead th {\n        text-align: right;\n    }\n</style>\n<table border=\"1\" class=\"dataframe\">\n  <thead>\n    <tr style=\"text-align: right;\">\n      <th></th>\n      <th>dt</th>\n      <th>batch_size</th>\n      <th>n_samples</th>\n      <th>sample_size_bytes</th>\n      <th>num_readers</th>\n      <th>tag</th>\n      <th>percentile</th>\n      <th>latency_ms_percentile</th>\n      <th>dt_ms</th>\n    </tr>\n  </thead>\n  <tbody>\n    <tr>\n      <th>210</th>\n      <td>0.001000</td>\n      <td>32</td>\n      <td>640000</td>\n      <td>768</td>\n      <td>1</td>\n      <td>ephys</td>\n      <td>50.00</td>\n      <td>0.916537</td>\n      <td>1.000000</td>\n    </tr>\n    <tr>\n      <th>211</th>\n      <td>0.001000</td>\n      <td>32</td>\n      <td>640000</td>\n      <td>768</td>\n      <td>1</td>\n      <td>ephys</td>\n      <td>75.00</td>\n      <td>1.003518</td>\n      <td>1.000000</td>\n    </tr>\n    <tr>\n      <th>212</th>\n      <td>0.001000</td>\n      <td>32</td>\n      <td>640000</td>\n      <td>768</td>\n      <td>1</td>\n      <td>ephys</td>\n      <td>90.00</td>\n      <td>1.089967</td>\n      <td>1.000000</td>\n    </tr>\n    <tr>\n      <th>213</th>\n      <td>0.001000</td>\n      <td>32</td>\n      <td>640000</td>\n      <td>768</td>\n      <td>1</td>\n      <td>ephys</td>\n      <td>95.00</td>\n      <td>1.186217</td>\n      <td>1.000000</td>\n    </tr>\n    <tr>\n      <th>214</th>\n      <td>0.001000</td>\n      <td>32</td>\n      <td>640000</td>\n      <td>768</td>\n      <td>1</td>\n      <td>ephys</td>\n      <td>99.00</td>\n      <td>1.340103</td>\n      <td>1.000000</td>\n    </tr>\n    <tr>\n      <th>...</th>\n      <td>...</td>\n      <td>...</td>\n      <td>...</td>\n      <td>...</td>\n      <td>...</td>\n      <td>...</td>\n      <td>...</td>\n      <td>...</td>\n      <td>...</td>\n    </tr>\n    <tr>\n      <th>254</th>\n      <td>0.008333</td>\n      <td>1</td>\n      <td>2400</td>\n      <td>1228800</td>\n      <td>1</td>\n      <td>imaging</td>\n      <td>90.00</td>\n      <td>186.357874</td>\n      <td>8.333333</td>\n    </tr>\n    <tr>\n      <th>255</th>\n      <td>0.008333</td>\n      <td>1</td>\n      <td>2400</td>\n      <td>1228800</td>\n      <td>1</td>\n      <td>imaging</td>\n      <td>95.00</td>\n      <td>187.797196</td>\n      <td>8.333333</td>\n    </tr>\n    <tr>\n      <th>256</th>\n      <td>0.008333</td>\n      <td>1</td>\n      <td>2400</td>\n      <td>1228800</td>\n      <td>1</td>\n      <td>imaging</td>\n      <td>99.00</td>\n      <td>263.886052</td>\n      <td>8.333333</td>\n    </tr>\n    <tr>\n      <th>257</th>\n      <td>0.008333</td>\n      <td>1</td>\n      <td>2400</td>\n      <td>1228800</td>\n      <td>1</td>\n      <td>imaging</td>\n      <td>99.90</td>\n      <td>273.531468</td>\n      <td>8.333333</td>\n    </tr>\n    <tr>\n      <th>258</th>\n      <td>0.008333</td>\n      <td>1</td>\n      <td>2400</td>\n      <td>1228800</td>\n      <td>1</td>\n      <td>imaging</td>\n      <td>99.99</td>\n      <td>274.085519</td>\n      <td>8.333333</td>\n    </tr>\n  </tbody>\n</table>\n<p>273 rows × 9 columns</p>\n</div>"
     },
     "execution_count": 101,
     "metadata": {},
     "output_type": "execute_result"
    }
   ],
   "source": [
    "\n",
    "from sklearn.linear_model import LinearRegression\n",
    "from scipy import stats\n",
    "import statsmodels.formula.api as smf\n",
    "\n",
    "def _compute_percentiles(group):\n",
    "    group = group.set_index('sample_index', verify_integrity=True)\n",
    "    percs = (50, 75, 90, 95, 99, 99.9, 99.99)\n",
    "    ret = []\n",
    "    for perc in percs:\n",
    "        ret.append({\n",
    "            'percentile': perc,\n",
    "            'value': np.percentile(group['latency_ms'], perc),\n",
    "        })\n",
    "\n",
    "    return pd.DataFrame(ret)\n",
    "\n",
    "def _compute_regressions(group):\n",
    "    group = group.set_index('sample_index', verify_integrity=True)\n",
    "    md = smf.ols('latency_ms ~ sample_index', group.reset_index()).fit()\n",
    "    return pd.DataFrame([{\n",
    "        'slope': md.params['sample_index'],\n",
    "        'pvalue': md.pvalues['sample_index'],\n",
    "    }])\n",
    "\n",
    "\n",
    "key_cols = ['dt', 'batch_size', 'n_samples', 'sample_size_bytes', 'num_readers', 'tag']\n",
    "\n",
    "agg_results = (\n",
    "    all_results\n",
    "        .groupby(key_cols)\n",
    "        .apply(_compute_percentiles)\n",
    "        .reset_index()\n",
    "        .drop(columns=['level_6'])\n",
    "        .rename(columns={'value': 'latency_ms_percentile'})\n",
    "        .assign(dt_ms=lambda x: x['dt'] * 1000)\n",
    "        .sort_values(['tag', 'num_readers', 'dt'])\n",
    ")\n",
    "reg_results = (\n",
    "    all_results\n",
    "        .groupby(key_cols)\n",
    "        .apply(_compute_regressions)\n",
    "        .reset_index()\n",
    "        .drop(columns=['level_6'])\n",
    "        .assign(is_sig=lambda x: x['pvalue'] < 0.05)\n",
    ")\n",
    "agg_results\n"
   ],
   "metadata": {
    "collapsed": false,
    "pycharm": {
     "name": "#%%\n"
    }
   }
  },
  {
   "cell_type": "code",
   "execution_count": 109,
   "outputs": [
    {
     "data": {
      "text/plain": "<Figure size 432x288 with 1 Axes>",
      "image/png": "[encoded data removed]"
     },
     "metadata": {
      "needs_background": "light"
     },
     "output_type": "display_data"
    }
   ],
   "source": [
    "\n",
    "# Event latency:\n",
    "nth_percentile = 95\n",
    "df = agg_results.query(f'tag == \"event\" and percentile == {nth_percentile} and dt_ms == 1.0 and num_readers <= 16')\n",
    "fig, ax = plt.subplots()\n",
    "sns.pointplot(\n",
    "    data=df,\n",
    "    y='latency_ms_percentile',\n",
    "    x='sample_size_bytes',\n",
    "    hue='num_readers',\n",
    "    ax=ax,\n",
    ")\n",
    "ax.set_ylabel(f'{nth_percentile:.1f}th percentile latency (ms)')\n",
    "ax.set_xlabel('Sample size (bytes)')\n",
    "\n",
    "fig.savefig('/tmp/event_latencies.pdf')\n",
    "\n"
   ],
   "metadata": {
    "collapsed": false,
    "pycharm": {
     "name": "#%%\n"
    }
   }
  },
  {
   "cell_type": "code",
   "execution_count": 158,
   "outputs": [
    {
     "data": {
      "text/plain": "        dt  batch_size  n_samples  sample_size_bytes  num_readers    tag  \\\n213  0.001          32     640000                768            1  ephys   \n220  0.002          64     640000                768            1  ephys   \n227  0.004         128     640000                768            1  ephys   \n234  0.008         256     640000                768            1  ephys   \n262  0.016         512     640000                768            1  ephys   \n269  0.032        1024     640000                768            1  ephys   \n\n     percentile  latency_ms_percentile  dt_ms     mb_s  \\\n213        95.0               1.186217    1.0  23.4375   \n220        95.0               1.690832    2.0  23.4375   \n227        95.0               2.918537    4.0  23.4375   \n234        95.0               5.105952    8.0  23.4375   \n262        95.0               8.046792   16.0  23.4375   \n269        95.0              14.464529   32.0  23.4375   \n\n     latency_ms_percentile_log  dt_ms_log  batch_size_log  \n213                   0.074164    0.00000             5.0  \n220                   0.228100    0.30103             6.0  \n227                   0.465165    0.60206             7.0  \n234                   0.708077    0.90309             8.0  \n262                   0.905623    1.20412             9.0  \n269                   1.160304    1.50515            10.0  ",
      "text/html": "<div>\n<style scoped>\n    .dataframe tbody tr th:only-of-type {\n        vertical-align: middle;\n    }\n\n    .dataframe tbody tr th {\n        vertical-align: top;\n    }\n\n    .dataframe thead th {\n        text-align: right;\n    }\n</style>\n<table border=\"1\" class=\"dataframe\">\n  <thead>\n    <tr style=\"text-align: right;\">\n      <th></th>\n      <th>dt</th>\n      <th>batch_size</th>\n      <th>n_samples</th>\n      <th>sample_size_bytes</th>\n      <th>num_readers</th>\n      <th>tag</th>\n      <th>percentile</th>\n      <th>latency_ms_percentile</th>\n      <th>dt_ms</th>\n      <th>mb_s</th>\n      <th>latency_ms_percentile_log</th>\n      <th>dt_ms_log</th>\n      <th>batch_size_log</th>\n    </tr>\n  </thead>\n  <tbody>\n    <tr>\n      <th>213</th>\n      <td>0.001</td>\n      <td>32</td>\n      <td>640000</td>\n      <td>768</td>\n      <td>1</td>\n      <td>ephys</td>\n      <td>95.0</td>\n      <td>1.186217</td>\n      <td>1.0</td>\n      <td>23.4375</td>\n      <td>0.074164</td>\n      <td>0.00000</td>\n      <td>5.0</td>\n    </tr>\n    <tr>\n      <th>220</th>\n      <td>0.002</td>\n      <td>64</td>\n      <td>640000</td>\n      <td>768</td>\n      <td>1</td>\n      <td>ephys</td>\n      <td>95.0</td>\n      <td>1.690832</td>\n      <td>2.0</td>\n      <td>23.4375</td>\n      <td>0.228100</td>\n      <td>0.30103</td>\n      <td>6.0</td>\n    </tr>\n    <tr>\n      <th>227</th>\n      <td>0.004</td>\n      <td>128</td>\n      <td>640000</td>\n      <td>768</td>\n      <td>1</td>\n      <td>ephys</td>\n      <td>95.0</td>\n      <td>2.918537</td>\n      <td>4.0</td>\n      <td>23.4375</td>\n      <td>0.465165</td>\n      <td>0.60206</td>\n      <td>7.0</td>\n    </tr>\n    <tr>\n      <th>234</th>\n      <td>0.008</td>\n      <td>256</td>\n      <td>640000</td>\n      <td>768</td>\n      <td>1</td>\n      <td>ephys</td>\n      <td>95.0</td>\n      <td>5.105952</td>\n      <td>8.0</td>\n      <td>23.4375</td>\n      <td>0.708077</td>\n      <td>0.90309</td>\n      <td>8.0</td>\n    </tr>\n    <tr>\n      <th>262</th>\n      <td>0.016</td>\n      <td>512</td>\n      <td>640000</td>\n      <td>768</td>\n      <td>1</td>\n      <td>ephys</td>\n      <td>95.0</td>\n      <td>8.046792</td>\n      <td>16.0</td>\n      <td>23.4375</td>\n      <td>0.905623</td>\n      <td>1.20412</td>\n      <td>9.0</td>\n    </tr>\n    <tr>\n      <th>269</th>\n      <td>0.032</td>\n      <td>1024</td>\n      <td>640000</td>\n      <td>768</td>\n      <td>1</td>\n      <td>ephys</td>\n      <td>95.0</td>\n      <td>14.464529</td>\n      <td>32.0</td>\n      <td>23.4375</td>\n      <td>1.160304</td>\n      <td>1.50515</td>\n      <td>10.0</td>\n    </tr>\n  </tbody>\n</table>\n</div>"
     },
     "execution_count": 158,
     "metadata": {},
     "output_type": "execute_result"
    },
    {
     "data": {
      "text/plain": "<Figure size 432x288 with 1 Axes>",
      "image/png": "[encoded data removed]"
     },
     "metadata": {
      "needs_background": "light"
     },
     "output_type": "display_data"
    }
   ],
   "source": [
    "\n",
    "\n",
    "df = (\n",
    "    agg_results\n",
    "        .query('tag == \"ephys\"')\n",
    "        .assign(mb_s=lambda x: x['batch_size'] * 1 / x['dt'] * x['sample_size_bytes'] / 1024 / 1024)\n",
    "        .query('percentile == 95.0')\n",
    "        .assign(latency_ms_percentile_log=lambda x: np.log10(x['latency_ms_percentile']))\n",
    "        .assign(dt_ms_log=lambda x: np.log10(x['dt_ms']))\n",
    "        .assign(batch_size_log=lambda x: np.log2(x['batch_size']))\n",
    ")\n",
    "s = set(df['mb_s'])\n",
    "assert len(s) == 1\n",
    "throughput = list(s)[0]\n",
    "\n",
    "\n",
    "df\n",
    "#\n",
    "fig, ax = plt.subplots()\n",
    "ax.plot(df['batch_size_log'], df['latency_ms_percentile_log'], markersize=5, marker='o')\n",
    "ax.plot(df['batch_size_log'], df['dt_ms_log'], markersize=5, ls='--', color='black', marker='o')\n",
    "\n",
    "bs = np.sort(df['batch_size_log'].unique())\n",
    "ax.set_xticks(bs)\n",
    "ax.set_xticklabels(np.round(np.power(2, bs)).astype(np.int64))\n",
    "\n",
    "ms = np.sort(df['dt_ms_log'].unique())\n",
    "ax.set_yticks(ms)\n",
    "ax.set_yticklabels(np.round(np.power(10, ms)).astype(np.int64))\n",
    "\n",
    "ax.set_xlabel('Batch size (log samples)')\n",
    "ax.set_ylabel('95th percentile latency (ms, log)')\n",
    "\n",
    "\n",
    "ax.set_title(f'Latency for 32 kHz stream')\n",
    "\n",
    "fig.savefig('/tmp/throughputs.pdf')\n",
    "df\n"
   ],
   "metadata": {
    "collapsed": false,
    "pycharm": {
     "name": "#%%\n"
    }
   }
  },
  {
   "cell_type": "code",
   "execution_count": 104,
   "outputs": [
    {
     "data": {
      "text/plain": "           dt  batch_size  n_samples  sample_size_bytes  num_readers      tag  \\\n242  0.008333           1       2400              76800            1  imaging   \n249  0.008333           1       2400             307200            1  imaging   \n256  0.008333           1       2400            1228800            1  imaging   \n\n     percentile  latency_ms_percentile     dt_ms        mb_s  \n242        99.0               1.972767  8.333333    8.789062  \n249        99.0               6.702541  8.333333   35.156250  \n256        99.0             263.886052  8.333333  140.625000  ",
      "text/html": "<div>\n<style scoped>\n    .dataframe tbody tr th:only-of-type {\n        vertical-align: middle;\n    }\n\n    .dataframe tbody tr th {\n        vertical-align: top;\n    }\n\n    .dataframe thead th {\n        text-align: right;\n    }\n</style>\n<table border=\"1\" class=\"dataframe\">\n  <thead>\n    <tr style=\"text-align: right;\">\n      <th></th>\n      <th>dt</th>\n      <th>batch_size</th>\n      <th>n_samples</th>\n      <th>sample_size_bytes</th>\n      <th>num_readers</th>\n      <th>tag</th>\n      <th>percentile</th>\n      <th>latency_ms_percentile</th>\n      <th>dt_ms</th>\n      <th>mb_s</th>\n    </tr>\n  </thead>\n  <tbody>\n    <tr>\n      <th>242</th>\n      <td>0.008333</td>\n      <td>1</td>\n      <td>2400</td>\n      <td>76800</td>\n      <td>1</td>\n      <td>imaging</td>\n      <td>99.0</td>\n      <td>1.972767</td>\n      <td>8.333333</td>\n      <td>8.789062</td>\n    </tr>\n    <tr>\n      <th>249</th>\n      <td>0.008333</td>\n      <td>1</td>\n      <td>2400</td>\n      <td>307200</td>\n      <td>1</td>\n      <td>imaging</td>\n      <td>99.0</td>\n      <td>6.702541</td>\n      <td>8.333333</td>\n      <td>35.156250</td>\n    </tr>\n    <tr>\n      <th>256</th>\n      <td>0.008333</td>\n      <td>1</td>\n      <td>2400</td>\n      <td>1228800</td>\n      <td>1</td>\n      <td>imaging</td>\n      <td>99.0</td>\n      <td>263.886052</td>\n      <td>8.333333</td>\n      <td>140.625000</td>\n    </tr>\n  </tbody>\n</table>\n</div>"
     },
     "execution_count": 104,
     "metadata": {},
     "output_type": "execute_result"
    }
   ],
   "source": [
    "\n",
    "\n",
    "df = (\n",
    "    agg_results\n",
    "        .query('tag == \"imaging\"')\n",
    "        .assign(mb_s=lambda x: x['batch_size'] * 1 / x['dt'] * x['sample_size_bytes'] / 1024 / 1024)\n",
    "        .query('percentile == 99.0')\n",
    ")\n",
    "df\n"
   ],
   "metadata": {
    "collapsed": false,
    "pycharm": {
     "name": "#%%\n"
    }
   }
  },
  {
   "cell_type": "code",
   "execution_count": 192,
   "outputs": [
    {
     "name": "stderr",
     "output_type": "stream",
     "text": [
      "I20220627 09:57:20.718657 3539691 redis.cpp:47] AUTH response: OK\n",
      "I20220627 09:57:20.729703 3539691 writer.cpp:231] Relative time (local - server) = -1226 us\n",
      "I20220627 09:57:20.730033 3539691 writer.cpp:90] Stream metadata:\n",
      "I20220627 09:57:20.730041 3539691 writer.cpp:92] => user_metadata: null\n",
      "I20220627 09:57:20.730044 3539691 writer.cpp:92] => local_minus_server_clock_us: -1226\n",
      "I20220627 09:57:20.730049 3539691 writer.cpp:92] => schema: {\"field_definitions\":[{\"name\":\"data\",\"size\":256,\"type\":\"FIXED_WIDTH_BYTES\"}]}\n",
      "I20220627 09:57:20.730053 3539691 writer.cpp:92] => initialized_at_us: 1656349040730942\n",
      "I20220627 09:57:20.730057 3539691 writer.cpp:92] => first_stream_key: 1cbe005c-4b4d-4154-b963-ed67d6f14505-0\n"
     ]
    },
    {
     "name": "stdout",
     "output_type": "stream",
     "text": [
      "Writing with batch size 1, # batches 128000 [total 128000]\n",
      "Sleeping, waiting for everything to catch up...\n",
      "Executing!\n"
     ]
    },
    {
     "name": "stderr",
     "output_type": "stream",
     "text": [
      "I20220627 09:57:36.039413 3539691 writer.cpp:246] Adding eof entry for stream 1cbe005c-4b4d-4154-b963-ed67d6f14505, idx 0 at samples 128100\n",
      "I20220627 09:57:37.435283 3559241 redis.cpp:47] AUTH response: OK\n",
      "I20220627 09:57:51.646293 3559241 reader.cpp:199] EOF received! Ending stream with 0 elements at sample 128099\n"
     ]
    },
    {
     "name": "stdout",
     "output_type": "stream",
     "text": [
      "1\n",
      "1\n"
     ]
    },
    {
     "name": "stderr",
     "output_type": "stream",
     "text": [
      "I20220627 09:57:51.852260 3539691 redis.cpp:47] AUTH response: OK\n",
      "I20220627 09:57:51.864061 3539691 writer.cpp:231] Relative time (local - server) = -1238 us\n",
      "I20220627 09:57:51.864419 3539691 writer.cpp:90] Stream metadata:\n",
      "I20220627 09:57:51.864426 3539691 writer.cpp:92] => user_metadata: null\n",
      "I20220627 09:57:51.864431 3539691 writer.cpp:92] => local_minus_server_clock_us: -1238\n",
      "I20220627 09:57:51.864435 3539691 writer.cpp:92] => schema: {\"field_definitions\":[{\"name\":\"data\",\"size\":256,\"type\":\"FIXED_WIDTH_BYTES\"}]}\n",
      "I20220627 09:57:51.864439 3539691 writer.cpp:92] => initialized_at_us: 1656349071865313\n",
      "I20220627 09:57:51.864444 3539691 writer.cpp:92] => first_stream_key: 1eeb9ec3-3e17-46f3-a817-783a4c2477e5-0\n"
     ]
    },
    {
     "name": "stdout",
     "output_type": "stream",
     "text": [
      "Writing with batch size 2, # batches 64000 [total 128000]\n",
      "Sleeping, waiting for everything to catch up...\n",
      "Executing!\n"
     ]
    },
    {
     "name": "stderr",
     "output_type": "stream",
     "text": [
      "I20220627 09:58:00.260567 3539691 writer.cpp:246] Adding eof entry for stream 1eeb9ec3-3e17-46f3-a817-783a4c2477e5, idx 0 at samples 128200\n",
      "I20220627 09:58:01.664404 3559939 redis.cpp:47] AUTH response: OK\n",
      "I20220627 09:58:09.029016 3559939 reader.cpp:199] EOF received! Ending stream with 0 elements at sample 128199\n",
      "I20220627 09:58:09.187412 3539691 redis.cpp:47] AUTH response: OK\n",
      "I20220627 09:58:09.198593 3539691 writer.cpp:231] Relative time (local - server) = -1229 us\n",
      "I20220627 09:58:09.198941 3539691 writer.cpp:90] Stream metadata:\n",
      "I20220627 09:58:09.198948 3539691 writer.cpp:92] => user_metadata: null\n",
      "I20220627 09:58:09.198953 3539691 writer.cpp:92] => local_minus_server_clock_us: -1229\n",
      "I20220627 09:58:09.198957 3539691 writer.cpp:92] => schema: {\"field_definitions\":[{\"name\":\"data\",\"size\":256,\"type\":\"FIXED_WIDTH_BYTES\"}]}\n",
      "I20220627 09:58:09.198961 3539691 writer.cpp:92] => initialized_at_us: 1656349089199834\n",
      "I20220627 09:58:09.198966 3539691 writer.cpp:92] => first_stream_key: 97b81050-46f9-4db8-994d-9236115fdd62-0\n"
     ]
    },
    {
     "name": "stdout",
     "output_type": "stream",
     "text": [
      "1\n",
      "1\n",
      "Writing with batch size 4, # batches 32000 [total 128000]\n",
      "Sleeping, waiting for everything to catch up...\n",
      "Executing!\n"
     ]
    },
    {
     "name": "stderr",
     "output_type": "stream",
     "text": [
      "I20220627 09:58:14.253618 3539691 writer.cpp:246] Adding eof entry for stream 97b81050-46f9-4db8-994d-9236115fdd62, idx 0 at samples 128400\n",
      "I20220627 09:58:15.645416 3559941 redis.cpp:47] AUTH response: OK\n",
      "I20220627 09:58:19.587806 3559941 reader.cpp:199] EOF received! Ending stream with 0 elements at sample 128399\n",
      "I20220627 09:58:19.727938 3539691 redis.cpp:47] AUTH response: OK\n",
      "I20220627 09:58:19.739130 3539691 writer.cpp:231] Relative time (local - server) = -1213 us\n",
      "I20220627 09:58:19.739447 3539691 writer.cpp:90] Stream metadata:\n",
      "I20220627 09:58:19.739455 3539691 writer.cpp:92] => user_metadata: null\n",
      "I20220627 09:58:19.739460 3539691 writer.cpp:92] => local_minus_server_clock_us: -1213\n",
      "I20220627 09:58:19.739464 3539691 writer.cpp:92] => schema: {\"field_definitions\":[{\"name\":\"data\",\"size\":256,\"type\":\"FIXED_WIDTH_BYTES\"}]}\n",
      "I20220627 09:58:19.739468 3539691 writer.cpp:92] => initialized_at_us: 1656349099740356\n",
      "I20220627 09:58:19.739472 3539691 writer.cpp:92] => first_stream_key: 3ce4928e-1796-4188-b4f9-54922327eb68-0\n"
     ]
    },
    {
     "name": "stdout",
     "output_type": "stream",
     "text": [
      "1\n",
      "1\n",
      "Writing with batch size 8, # batches 16000 [total 128000]\n",
      "Sleeping, waiting for everything to catch up...\n",
      "Executing!\n"
     ]
    },
    {
     "name": "stderr",
     "output_type": "stream",
     "text": [
      "I20220627 09:58:23.958765 3539691 writer.cpp:246] Adding eof entry for stream 3ce4928e-1796-4188-b4f9-54922327eb68, idx 0 at samples 128800\n",
      "I20220627 09:58:25.351549 3559943 redis.cpp:47] AUTH response: OK\n",
      "I20220627 09:58:30.518230 3559943 reader.cpp:199] EOF received! Ending stream with 0 elements at sample 128799\n",
      "I20220627 09:58:30.660102 3539691 redis.cpp:47] AUTH response: OK\n",
      "I20220627 09:58:30.671033 3539691 writer.cpp:231] Relative time (local - server) = -1204 us\n",
      "I20220627 09:58:30.671350 3539691 writer.cpp:90] Stream metadata:\n",
      "I20220627 09:58:30.671356 3539691 writer.cpp:92] => user_metadata: null\n",
      "I20220627 09:58:30.671361 3539691 writer.cpp:92] => local_minus_server_clock_us: -1204\n",
      "I20220627 09:58:30.671365 3539691 writer.cpp:92] => schema: {\"field_definitions\":[{\"name\":\"data\",\"size\":256,\"type\":\"FIXED_WIDTH_BYTES\"}]}\n",
      "I20220627 09:58:30.671370 3539691 writer.cpp:92] => initialized_at_us: 1656349110672248\n",
      "I20220627 09:58:30.671373 3539691 writer.cpp:92] => first_stream_key: 97755ef4-38c0-4da5-b4a6-b0b50e185e8d-0\n"
     ]
    },
    {
     "name": "stdout",
     "output_type": "stream",
     "text": [
      "1\n",
      "1\n",
      "Writing with batch size 16, # batches 8000 [total 128000]\n",
      "Sleeping, waiting for everything to catch up...\n",
      "Executing!\n"
     ]
    },
    {
     "name": "stderr",
     "output_type": "stream",
     "text": [
      "I20220627 09:58:33.654913 3539691 writer.cpp:246] Adding eof entry for stream 97755ef4-38c0-4da5-b4a6-b0b50e185e8d, idx 0 at samples 129600\n",
      "I20220627 09:58:35.049063 3559945 redis.cpp:47] AUTH response: OK\n",
      "I20220627 09:58:37.815848 3559945 reader.cpp:199] EOF received! Ending stream with 0 elements at sample 129599\n",
      "I20220627 09:58:37.941108 3539691 redis.cpp:47] AUTH response: OK\n",
      "I20220627 09:58:37.952111 3539691 writer.cpp:231] Relative time (local - server) = -1193 us\n",
      "I20220627 09:58:37.952430 3539691 writer.cpp:90] Stream metadata:\n",
      "I20220627 09:58:37.952437 3539691 writer.cpp:92] => user_metadata: null\n",
      "I20220627 09:58:37.952441 3539691 writer.cpp:92] => local_minus_server_clock_us: -1193\n",
      "I20220627 09:58:37.952446 3539691 writer.cpp:92] => schema: {\"field_definitions\":[{\"name\":\"data\",\"size\":256,\"type\":\"FIXED_WIDTH_BYTES\"}]}\n",
      "I20220627 09:58:37.952450 3539691 writer.cpp:92] => initialized_at_us: 1656349117953315\n",
      "I20220627 09:58:37.952455 3539691 writer.cpp:92] => first_stream_key: 45c5a865-1dea-4d17-abf7-340fbe950db2-0\n"
     ]
    },
    {
     "name": "stdout",
     "output_type": "stream",
     "text": [
      "1\n",
      "1\n",
      "Writing with batch size 32, # batches 4000 [total 128000]\n",
      "Sleeping, waiting for everything to catch up...\n",
      "Executing!\n"
     ]
    },
    {
     "name": "stderr",
     "output_type": "stream",
     "text": [
      "I20220627 09:58:40.373308 3539691 writer.cpp:246] Adding eof entry for stream 45c5a865-1dea-4d17-abf7-340fbe950db2, idx 0 at samples 131200\n",
      "I20220627 09:58:41.767859 3559947 redis.cpp:47] AUTH response: OK\n",
      "I20220627 09:58:43.504717 3559947 reader.cpp:199] EOF received! Ending stream with 0 elements at sample 131199\n",
      "I20220627 09:58:43.638361 3539691 redis.cpp:47] AUTH response: OK\n",
      "I20220627 09:58:43.649366 3539691 writer.cpp:231] Relative time (local - server) = -1187 us\n",
      "I20220627 09:58:43.649677 3539691 writer.cpp:90] Stream metadata:\n",
      "I20220627 09:58:43.649684 3539691 writer.cpp:92] => user_metadata: null\n",
      "I20220627 09:58:43.649689 3539691 writer.cpp:92] => local_minus_server_clock_us: -1187\n",
      "I20220627 09:58:43.649693 3539691 writer.cpp:92] => schema: {\"field_definitions\":[{\"name\":\"data\",\"size\":256,\"type\":\"FIXED_WIDTH_BYTES\"}]}\n",
      "I20220627 09:58:43.649698 3539691 writer.cpp:92] => initialized_at_us: 1656349123650567\n",
      "I20220627 09:58:43.649701 3539691 writer.cpp:92] => first_stream_key: 1e694b67-5982-4ec8-b691-2128fa6a8907-0\n"
     ]
    },
    {
     "name": "stdout",
     "output_type": "stream",
     "text": [
      "1\n",
      "1\n",
      "Writing with batch size 64, # batches 2000 [total 128000]\n",
      "Sleeping, waiting for everything to catch up...\n",
      "Executing!\n"
     ]
    },
    {
     "name": "stderr",
     "output_type": "stream",
     "text": [
      "I20220627 09:58:45.856046 3539691 writer.cpp:246] Adding eof entry for stream 1e694b67-5982-4ec8-b691-2128fa6a8907, idx 0 at samples 134400\n",
      "I20220627 09:58:47.250818 3559949 redis.cpp:47] AUTH response: OK\n",
      "I20220627 09:58:48.516933 3559949 reader.cpp:199] EOF received! Ending stream with 0 elements at sample 134399\n",
      "I20220627 09:58:48.647960 3539691 redis.cpp:47] AUTH response: OK\n",
      "I20220627 09:58:48.659029 3539691 writer.cpp:231] Relative time (local - server) = -1184 us\n",
      "I20220627 09:58:48.659355 3539691 writer.cpp:90] Stream metadata:\n",
      "I20220627 09:58:48.659363 3539691 writer.cpp:92] => user_metadata: null\n",
      "I20220627 09:58:48.659368 3539691 writer.cpp:92] => local_minus_server_clock_us: -1184\n",
      "I20220627 09:58:48.659371 3539691 writer.cpp:92] => schema: {\"field_definitions\":[{\"name\":\"data\",\"size\":256,\"type\":\"FIXED_WIDTH_BYTES\"}]}\n",
      "I20220627 09:58:48.659375 3539691 writer.cpp:92] => initialized_at_us: 1656349128660223\n",
      "I20220627 09:58:48.659379 3539691 writer.cpp:92] => first_stream_key: 9db873b1-dc35-4445-a345-9328584c6959-0\n"
     ]
    },
    {
     "name": "stdout",
     "output_type": "stream",
     "text": [
      "1\n",
      "1\n",
      "Writing with batch size 128, # batches 1000 [total 128000]\n",
      "Sleeping, waiting for everything to catch up...\n",
      "Executing!\n"
     ]
    },
    {
     "name": "stderr",
     "output_type": "stream",
     "text": [
      "I20220627 09:58:50.728037 3539691 writer.cpp:246] Adding eof entry for stream 9db873b1-dc35-4445-a345-9328584c6959, idx 0 at samples 140800\n",
      "I20220627 09:58:52.130364 3559951 redis.cpp:47] AUTH response: OK\n"
     ]
    },
    {
     "name": "stdout",
     "output_type": "stream",
     "text": [
      "1\n",
      "1\n"
     ]
    },
    {
     "name": "stderr",
     "output_type": "stream",
     "text": [
      "I20220627 09:58:53.589016 3559951 reader.cpp:199] EOF received! Ending stream with 0 elements at sample 140799\n"
     ]
    },
    {
     "data": {
      "text/plain": "     sample_written_at  sample_index  sample_received_at    latency  \\\n0         1.270824e+07           100        1.270826e+07  15.588251   \n1         1.270824e+07           101        1.270826e+07  15.585353   \n2         1.270824e+07           102        1.270826e+07  15.585187   \n3         1.270824e+07           103        1.270826e+07  15.585074   \n4         1.270824e+07           104        1.270826e+07  15.584956   \n..                 ...           ...                 ...        ...   \n995       1.270833e+07          1095        1.270833e+07   2.860182   \n996       1.270833e+07          1096        1.270833e+07   2.860431   \n997       1.270833e+07          1097        1.270833e+07   2.860832   \n998       1.270833e+07          1098        1.270833e+07   2.861003   \n999       1.270833e+07          1099        1.270833e+07   2.861455   \n\n       latency_ms   dt  batch_size  n_samples  sample_size_bytes  num_readers  \n0    15588.250993  0.0           1     128000                256            1  \n1    15585.352639  0.0           1     128000                256            1  \n2    15585.186945  0.0           1     128000                256            1  \n3    15585.073784  0.0           1     128000                256            1  \n4    15584.956102  0.0           1     128000                256            1  \n..            ...  ...         ...        ...                ...          ...  \n995   2860.181652  0.0         128     128000                256            1  \n996   2860.430775  0.0         128     128000                256            1  \n997   2860.832075  0.0         128     128000                256            1  \n998   2861.003233  0.0         128     128000                256            1  \n999   2861.455476  0.0         128     128000                256            1  \n\n[255000 rows x 10 columns]",
      "text/html": "<div>\n<style scoped>\n    .dataframe tbody tr th:only-of-type {\n        vertical-align: middle;\n    }\n\n    .dataframe tbody tr th {\n        vertical-align: top;\n    }\n\n    .dataframe thead th {\n        text-align: right;\n    }\n</style>\n<table border=\"1\" class=\"dataframe\">\n  <thead>\n    <tr style=\"text-align: right;\">\n      <th></th>\n      <th>sample_written_at</th>\n      <th>sample_index</th>\n      <th>sample_received_at</th>\n      <th>latency</th>\n      <th>latency_ms</th>\n      <th>dt</th>\n      <th>batch_size</th>\n      <th>n_samples</th>\n      <th>sample_size_bytes</th>\n      <th>num_readers</th>\n    </tr>\n  </thead>\n  <tbody>\n    <tr>\n      <th>0</th>\n      <td>1.270824e+07</td>\n      <td>100</td>\n      <td>1.270826e+07</td>\n      <td>15.588251</td>\n      <td>15588.250993</td>\n      <td>0.0</td>\n      <td>1</td>\n      <td>128000</td>\n      <td>256</td>\n      <td>1</td>\n    </tr>\n    <tr>\n      <th>1</th>\n      <td>1.270824e+07</td>\n      <td>101</td>\n      <td>1.270826e+07</td>\n      <td>15.585353</td>\n      <td>15585.352639</td>\n      <td>0.0</td>\n      <td>1</td>\n      <td>128000</td>\n      <td>256</td>\n      <td>1</td>\n    </tr>\n    <tr>\n      <th>2</th>\n      <td>1.270824e+07</td>\n      <td>102</td>\n      <td>1.270826e+07</td>\n      <td>15.585187</td>\n      <td>15585.186945</td>\n      <td>0.0</td>\n      <td>1</td>\n      <td>128000</td>\n      <td>256</td>\n      <td>1</td>\n    </tr>\n    <tr>\n      <th>3</th>\n      <td>1.270824e+07</td>\n      <td>103</td>\n      <td>1.270826e+07</td>\n      <td>15.585074</td>\n      <td>15585.073784</td>\n      <td>0.0</td>\n      <td>1</td>\n      <td>128000</td>\n      <td>256</td>\n      <td>1</td>\n    </tr>\n    <tr>\n      <th>4</th>\n      <td>1.270824e+07</td>\n      <td>104</td>\n      <td>1.270826e+07</td>\n      <td>15.584956</td>\n      <td>15584.956102</td>\n      <td>0.0</td>\n      <td>1</td>\n      <td>128000</td>\n      <td>256</td>\n      <td>1</td>\n    </tr>\n    <tr>\n      <th>...</th>\n      <td>...</td>\n      <td>...</td>\n      <td>...</td>\n      <td>...</td>\n      <td>...</td>\n      <td>...</td>\n      <td>...</td>\n      <td>...</td>\n      <td>...</td>\n      <td>...</td>\n    </tr>\n    <tr>\n      <th>995</th>\n      <td>1.270833e+07</td>\n      <td>1095</td>\n      <td>1.270833e+07</td>\n      <td>2.860182</td>\n      <td>2860.181652</td>\n      <td>0.0</td>\n      <td>128</td>\n      <td>128000</td>\n      <td>256</td>\n      <td>1</td>\n    </tr>\n    <tr>\n      <th>996</th>\n      <td>1.270833e+07</td>\n      <td>1096</td>\n      <td>1.270833e+07</td>\n      <td>2.860431</td>\n      <td>2860.430775</td>\n      <td>0.0</td>\n      <td>128</td>\n      <td>128000</td>\n      <td>256</td>\n      <td>1</td>\n    </tr>\n    <tr>\n      <th>997</th>\n      <td>1.270833e+07</td>\n      <td>1097</td>\n      <td>1.270833e+07</td>\n      <td>2.860832</td>\n      <td>2860.832075</td>\n      <td>0.0</td>\n      <td>128</td>\n      <td>128000</td>\n      <td>256</td>\n      <td>1</td>\n    </tr>\n    <tr>\n      <th>998</th>\n      <td>1.270833e+07</td>\n      <td>1098</td>\n      <td>1.270833e+07</td>\n      <td>2.861003</td>\n      <td>2861.003233</td>\n      <td>0.0</td>\n      <td>128</td>\n      <td>128000</td>\n      <td>256</td>\n      <td>1</td>\n    </tr>\n    <tr>\n      <th>999</th>\n      <td>1.270833e+07</td>\n      <td>1099</td>\n      <td>1.270833e+07</td>\n      <td>2.861455</td>\n      <td>2861.455476</td>\n      <td>0.0</td>\n      <td>128</td>\n      <td>128000</td>\n      <td>256</td>\n      <td>1</td>\n    </tr>\n  </tbody>\n</table>\n<p>255000 rows × 10 columns</p>\n</div>"
     },
     "execution_count": 192,
     "metadata": {},
     "output_type": "execute_result"
    }
   ],
   "source": [
    "\n",
    "# Then test maximum read and write throughputs separately:\n",
    "raw_throughput_results_fn = 'raw_throughput_results.parquet'\n",
    "\n",
    "if os.path.exists(raw_throughput_results_fn) and False:\n",
    "    raw_throughputs = pd.read_parquet(raw_throughput_results_fn)\n",
    "else:\n",
    "    raw_throughputs = []\n",
    "    for d in [\n",
    "        dict(\n",
    "            # No latency\n",
    "            dt=0.000,\n",
    "            batch_size=batch_size,\n",
    "            n_samples=128000,\n",
    "            sample_size_bytes=256,\n",
    "            num_readers=1,\n",
    "        ) for batch_size in (1, 2, 4, 8, 16, 32, 64, 128)\n",
    "    ]:\n",
    "        df = performance.test_performance(\n",
    "            redis_hostname=redis_hostname,\n",
    "            redis_password=redis_password,\n",
    "            redis_port=6379,\n",
    "            read_simultaneously=False,\n",
    "            **d,\n",
    "        )\n",
    "        raw_throughputs.append(df)\n",
    "\n",
    "    raw_throughputs = pd.concat(raw_throughputs)\n",
    "    raw_throughputs.to_parquet(raw_throughput_results_fn)\n",
    "\n",
    "raw_throughputs\n"
   ],
   "metadata": {
    "collapsed": false,
    "pycharm": {
     "name": "#%%\n"
    }
   }
  },
  {
   "cell_type": "code",
   "execution_count": 203,
   "outputs": [
    {
     "data": {
      "text/plain": "0    31.25\n1    31.25\n2    31.25\n3    31.25\n4    31.25\n5    31.25\n6    31.25\n7    31.25\nName: total_bytes, dtype: float64"
     },
     "execution_count": 203,
     "metadata": {},
     "output_type": "execute_result"
    }
   ],
   "source": [
    "\n",
    "df['total_bytes'] / 1024 / 1024\n"
   ],
   "metadata": {
    "collapsed": false,
    "pycharm": {
     "name": "#%%\n"
    }
   }
  },
  {
   "cell_type": "code",
   "execution_count": 209,
   "outputs": [
    {
     "data": {
      "text/plain": "<Figure size 360x144 with 1 Axes>",
      "image/png": "[encoded data removed]"
     },
     "metadata": {
      "needs_background": "light"
     },
     "output_type": "display_data"
    }
   ],
   "source": [
    "\n",
    "key_cols = ['dt', 'batch_size', 'n_samples', 'sample_size_bytes', 'num_readers']\n",
    "df = (\n",
    "    raw_throughputs\n",
    "        .groupby(key_cols)[['sample_written_at', 'sample_received_at']]\n",
    "        .agg([np.max, np.min])\n",
    "        .reset_index()\n",
    "        .assign(total_bytes=lambda x: x['sample_size_bytes'] * x['n_samples'])\n",
    "        .assign(write_elapsed_secs=lambda x: x['sample_written_at', 'amax'] - x['sample_written_at', 'amin'])\n",
    "        .assign(read_elapsed_secs=lambda x: x['sample_received_at', 'amax'] - x['sample_received_at', 'amin'])\n",
    "        # .drop(columns=[[a, b] for a in ('sample_received_at', 'sample_written_at') for b in ('amax', 'amin')])\n",
    "        .assign(write_throughput_mb_s=lambda x: x['total_bytes'] / 1024 / 1024 / x['write_elapsed_secs'])\n",
    "        .assign(read_throughput_mb_s=lambda x: x['total_bytes'] / 1024 / 1024 / x['read_elapsed_secs'])\n",
    "        .assign(batch_size_log=lambda x: np.log2(x['batch_size']))\n",
    ")\n",
    "\n",
    "fig, ax = plt.subplots(figsize=(5, 2))\n",
    "ax.plot(df['batch_size_log'], df['read_throughput_mb_s'], label='Read', marker='o', markersize=5)\n",
    "ax.plot(df['batch_size_log'], df['write_throughput_mb_s'], label='Write', marker='o', markersize=5)\n",
    "ax.legend()\n",
    "\n",
    "ax.set_xticks(df['batch_size_log'])\n",
    "ax.set_xticklabels(np.round(np.power(2, df['batch_size_log'])).astype(np.int64))\n",
    "ax.set_ylabel('Throughput (MB/s)')\n",
    "ax.set_xlabel('Batch size (samples)')\n",
    "ax.set_title('Read/write throughputs')\n",
    "\n",
    "fig.savefig('/tmp/raw_throughputs.pdf')\n"
   ],
   "metadata": {
    "collapsed": false,
    "pycharm": {
     "name": "#%%\n"
    }
   }
  }
 ],
 "metadata": {
  "kernelspec": {
   "display_name": "Python 3",
   "language": "python",
   "name": "python3"
  },
  "language_info": {
   "codemirror_mode": {
    "name": "ipython",
    "version": 2
   },
   "file_extension": ".py",
   "mimetype": "text/x-python",
   "name": "python",
   "nbconvert_exporter": "python",
   "pygments_lexer": "ipython2",
   "version": "2.7.6"
  }
 },
 "nbformat": 4,
 "nbformat_minor": 0
}